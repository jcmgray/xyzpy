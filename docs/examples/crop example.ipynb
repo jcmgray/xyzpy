{
 "cells": [
  {
   "cell_type": "markdown",
   "metadata": {},
   "source": [
    "# Persistent/Distributed Generation with ``Crop`` Example\n",
    "\n",
    "This example shows how to use the {class}`~xyzpy.Crop` object for disk-based \n",
    "combo running - either for persistent progress or distributed processing.\n",
    "\n",
    "First let's define a very simple function, describe it with a \n",
    "{class}`~xyzpy.Runner` and {class}`~xyzpy.Harvester` and set the combos for \n",
    "this first set of runs."
   ]
  },
  {
   "cell_type": "code",
   "execution_count": 1,
   "metadata": {},
   "outputs": [],
   "source": [
    "import xyzpy as xyz\n",
    "\n",
    "def foo(a, b):\n",
    "    return a + b, a - b\n",
    "\n",
    "r = xyz.Runner(foo, ['sum', 'diff'])\n",
    "h = xyz.Harvester(r, data_name='foo_data.h5')\n",
    "\n",
    "combos = {\n",
    "    'a': range(0, 10),\n",
    "    'b': range(0, 10),\n",
    "}"
   ]
  },
  {
   "cell_type": "markdown",
   "metadata": {
    "raw_mimetype": "text/restructuredtext"
   },
   "source": [
    "We could use the harvester to generate data locally. But if we want results to\n",
    "be written to disk, either for persistence or to run them elsewhere, we need\n",
    "to create a {class}`~xyzpy.Crop`.\n"
   ]
  },
  {
   "cell_type": "code",
   "execution_count": 2,
   "metadata": {},
   "outputs": [
    {
     "data": {
      "text/plain": [
       "<Crop(name='first_run', batchsize=5, num_batches=None)>"
      ]
     },
     "execution_count": 2,
     "metadata": {},
     "output_type": "execute_result"
    }
   ],
   "source": [
    "c = h.Crop(name='first_run', batchsize=5)\n",
    "c"
   ]
  },
  {
   "cell_type": "markdown",
   "metadata": {},
   "source": [
    "## Sow the combos\n",
    "\n",
    "A single crop is used for each set of runs/combos, with batchsize setting how many runs should be lumped together (default: 1).\n",
    "We first **sow** the ``combos`` to disk using the ``Crop``:"
   ]
  },
  {
   "cell_type": "code",
   "execution_count": 3,
   "metadata": {},
   "outputs": [
    {
     "name": "stderr",
     "output_type": "stream",
     "text": [
      "100%|##########| 100/100 [00:00<00:00, 13303.43it/s]\n"
     ]
    }
   ],
   "source": [
    "c.sow_combos(combos)"
   ]
  },
  {
   "cell_type": "markdown",
   "metadata": {},
   "source": [
    "There is now a hidden directory containing everything the crop needs:"
   ]
  },
  {
   "cell_type": "code",
   "execution_count": 4,
   "metadata": {},
   "outputs": [
    {
     "name": "stdout",
     "output_type": "stream",
     "text": [
      "\u001b[30m\u001b[43m.\u001b[m\u001b[m/                              \u001b[31mcrop example.ipynb\u001b[m\u001b[m*\n",
      "\u001b[30m\u001b[43m..\u001b[m\u001b[m/                             \u001b[31mdask distributed example.ipynb\u001b[m\u001b[m*\n",
      "\u001b[34m.xyz-first_run\u001b[m\u001b[m/                 \u001b[30m\u001b[43mdask-worker-space\u001b[m\u001b[m/\n",
      "\u001b[31mbasic output example.ipynb\u001b[m\u001b[m*     \u001b[31mfarming example.ipynb\u001b[m\u001b[m*\n",
      "\u001b[31mcomplex output example.ipynb\u001b[m\u001b[m*   \u001b[31mvisualize matrix.ipynb\u001b[m\u001b[m*\n"
     ]
    }
   ],
   "source": [
    "!ls -a"
   ]
  },
  {
   "cell_type": "markdown",
   "metadata": {},
   "source": [
    "And inside that are folders for the batches and results, the pickled function, and some other dumped settings:"
   ]
  },
  {
   "cell_type": "code",
   "execution_count": 5,
   "metadata": {},
   "outputs": [
    {
     "name": "stdout",
     "output_type": "stream",
     "text": [
      "\u001b[34mbatches\u001b[m\u001b[m/            \u001b[34mresults\u001b[m\u001b[m/            xyz-function.clpkl  xyz-settings.jbdmp\n"
     ]
    }
   ],
   "source": [
    "!ls .xyz-first_run/"
   ]
  },
  {
   "cell_type": "markdown",
   "metadata": {},
   "source": [
    "Once sown, we can check the progress of the ``Crop``:"
   ]
  },
  {
   "cell_type": "code",
   "execution_count": 6,
   "metadata": {},
   "outputs": [
    {
     "data": {
      "text/plain": [
       "<Crop(name='first_run', batchsize=5, num_batches=20)>"
      ]
     },
     "execution_count": 6,
     "metadata": {},
     "output_type": "execute_result"
    }
   ],
   "source": [
    "c"
   ]
  },
  {
   "cell_type": "markdown",
   "metadata": {
    "raw_mimetype": "text/restructuredtext",
    "tags": []
   },
   "source": [
    "There are a hundred combinations, with a batchsize of 5, yielding 20 batches to be processed.\n",
    "\n",
    ":::{hint}\n",
    "As well as ``combos`` you can supply ``cases`` and ``constants`` to\n",
    "{meth}`~xyzpy.Crop.sow_combos`.\n",
    ":::\n"
   ]
  },
  {
   "cell_type": "markdown",
   "metadata": {},
   "source": [
    "## Grow the results\n",
    "\n",
    "Any python process with access to the sown batches in ``.xyz-first_run`` (and the function requirements) can grow the results (you could even zip the folder up and send elsewhere). The process can be run in several ways:\n",
    "\n",
    "1. In the ``.xyz-first_run`` folder itself, using e.g:\n",
    "\n",
    "```bash\n",
    "python -c \"import xyzpy; xyzpy.grow(i)\"  # with i = 1 ... 20\n",
    "```\n",
    "\n",
    "2. In the current ('parent') folder, one then has to used a named crop to differentiate: e.g:\n",
    "\n",
    "```bash\n",
    "python -c \"import xyzpy; crop=xyzpy.Crop(name='fist_run'); xyzpy.grow(i, crop=crop)\"\n",
    "```\n",
    "\n",
    "3. Somewhere else. Then the parent must be specified too, e.g.:\n",
    "\n",
    "```bash\n",
    "python -c \"import xyzpy; crop=xyzpy.Crop(name='first_run', parent_dir='.../xyzpy/docs/examples'); xyzpy.grow(i, crop=crop)\"\n",
    "```"
   ]
  },
  {
   "cell_type": "markdown",
   "metadata": {
    "raw_mimetype": "text/restructuredtext"
   },
   "source": [
    "To fake this happening we can run {class}`~xyzpy.grow` ourselves (this cell could standalone):\n"
   ]
  },
  {
   "cell_type": "code",
   "execution_count": 7,
   "metadata": {},
   "outputs": [
    {
     "name": "stdout",
     "output_type": "stream",
     "text": [
      "xyzpy: loaded batch 1 of first_run.\n"
     ]
    },
    {
     "name": "stderr",
     "output_type": "stream",
     "text": [
      "{'a': 0, 'b': 4}: 100%|##########| 5/5 [00:00<00:00, 1990.27it/s]\n"
     ]
    },
    {
     "name": "stdout",
     "output_type": "stream",
     "text": [
      "xyzpy: success - batch 1 completed.\n",
      "xyzpy: loaded batch 2 of first_run.\n"
     ]
    },
    {
     "name": "stderr",
     "output_type": "stream",
     "text": [
      "{'a': 0, 'b': 9}: 100%|##########| 5/5 [00:00<00:00, 1735.48it/s]\n"
     ]
    },
    {
     "name": "stdout",
     "output_type": "stream",
     "text": [
      "xyzpy: success - batch 2 completed.\n",
      "xyzpy: loaded batch 3 of first_run.\n"
     ]
    },
    {
     "name": "stderr",
     "output_type": "stream",
     "text": [
      "{'a': 1, 'b': 4}: 100%|##########| 5/5 [00:00<00:00, 2599.02it/s]\n"
     ]
    },
    {
     "name": "stdout",
     "output_type": "stream",
     "text": [
      "xyzpy: success - batch 3 completed.\n",
      "xyzpy: loaded batch 4 of first_run.\n"
     ]
    },
    {
     "name": "stderr",
     "output_type": "stream",
     "text": [
      "{'a': 1, 'b': 9}: 100%|##########| 5/5 [00:00<00:00, 1434.64it/s]\n"
     ]
    },
    {
     "name": "stdout",
     "output_type": "stream",
     "text": [
      "xyzpy: success - batch 4 completed.\n",
      "xyzpy: loaded batch 5 of first_run.\n"
     ]
    },
    {
     "name": "stderr",
     "output_type": "stream",
     "text": [
      "{'a': 2, 'b': 4}: 100%|##########| 5/5 [00:00<00:00, 2309.38it/s]\n"
     ]
    },
    {
     "name": "stdout",
     "output_type": "stream",
     "text": [
      "xyzpy: success - batch 5 completed.\n",
      "xyzpy: loaded batch 6 of first_run.\n"
     ]
    },
    {
     "name": "stderr",
     "output_type": "stream",
     "text": [
      "{'a': 2, 'b': 9}: 100%|##########| 5/5 [00:00<00:00, 170.51it/s]\n"
     ]
    },
    {
     "name": "stdout",
     "output_type": "stream",
     "text": [
      "xyzpy: success - batch 6 completed.\n",
      "xyzpy: loaded batch 7 of first_run.\n"
     ]
    },
    {
     "name": "stderr",
     "output_type": "stream",
     "text": [
      "{'a': 3, 'b': 4}: 100%|##########| 5/5 [00:00<00:00, 672.12it/s]\n"
     ]
    },
    {
     "name": "stdout",
     "output_type": "stream",
     "text": [
      "xyzpy: success - batch 7 completed.\n",
      "xyzpy: loaded batch 8 of first_run.\n"
     ]
    },
    {
     "name": "stderr",
     "output_type": "stream",
     "text": [
      "{'a': 3, 'b': 9}: 100%|##########| 5/5 [00:00<00:00, 2398.12it/s]\n"
     ]
    },
    {
     "name": "stdout",
     "output_type": "stream",
     "text": [
      "xyzpy: success - batch 8 completed.\n",
      "xyzpy: loaded batch 9 of first_run.\n"
     ]
    },
    {
     "name": "stderr",
     "output_type": "stream",
     "text": [
      "{'a': 4, 'b': 4}: 100%|##########| 5/5 [00:00<00:00, 2279.76it/s]\n"
     ]
    },
    {
     "name": "stdout",
     "output_type": "stream",
     "text": [
      "xyzpy: success - batch 9 completed.\n",
      "xyzpy: loaded batch 10 of first_run.\n"
     ]
    },
    {
     "name": "stderr",
     "output_type": "stream",
     "text": [
      "{'a': 4, 'b': 9}: 100%|##########| 5/5 [00:00<00:00, 1894.10it/s]"
     ]
    },
    {
     "name": "stdout",
     "output_type": "stream",
     "text": [
      "xyzpy: success - batch 10 completed.\n"
     ]
    },
    {
     "name": "stderr",
     "output_type": "stream",
     "text": [
      "\n"
     ]
    }
   ],
   "source": [
    "import xyzpy\n",
    "crop = xyzpy.Crop(name='first_run')\n",
    "for i in range(1, 11):\n",
    "    xyzpy.grow(i, crop=crop)"
   ]
  },
  {
   "cell_type": "markdown",
   "metadata": {},
   "source": [
    "And now we can check the progress:"
   ]
  },
  {
   "cell_type": "code",
   "execution_count": 8,
   "metadata": {},
   "outputs": [
    {
     "name": "stdout",
     "output_type": "stream",
     "text": [
      "\n",
      "/Users/johnnie/Sync/dev/python/xyzpy/docs/examples/.xyz-first_run\n",
      "--------------------------------------------------------=========\n",
      "10 / 20 batches of size 5 completed\n",
      "[##########          ] : 50.0%\n",
      "\n"
     ]
    }
   ],
   "source": [
    "print(c)"
   ]
  },
  {
   "cell_type": "markdown",
   "metadata": {
    "raw_mimetype": "text/restructuredtext"
   },
   "source": [
    "If we were on a batch system we could use {meth}`xyzpy.Crop.grow_cluster` to automatically\n",
    "submit all missing batches as jobs. It is worth double checking the script that\n",
    "is used first though! This is done using {meth}`xyzpy.Crop.gen_cluster_script`:\n"
   ]
  },
  {
   "cell_type": "code",
   "execution_count": 10,
   "metadata": {},
   "outputs": [
    {
     "name": "stdout",
     "output_type": "stream",
     "text": [
      "#!/bin/bash -l\n",
      "#$ -S /bin/bash\n",
      "#$ -N first_run\n",
      "#$ -l h_rt=0:20:0,mem=1G\n",
      "#$ -l tmpfs=1G\n",
      "mkdir -p /Users/johnnie/Scratch/output\n",
      "#$ -wd /Users/johnnie/Scratch/output\n",
      "#$ -pe smp None\n",
      "\n",
      "#$ -t 1-10\n",
      "echo 'XYZPY script starting...'\n",
      "cd /Users/johnnie/Sync/dev/python/xyzpy/docs/examples\n",
      "export OMP_NUM_THREADS=None\n",
      "export MKL_NUM_THREADS=None\n",
      "export OPENBLAS_NUM_THREADS=None\n",
      "export NUMBA_NUM_THREADS=None\n",
      "\n",
      "conda activate py311\n",
      "read -r -d '' SCRIPT << EOM\n",
      "#\n",
      "from xyzpy.gen.cropping import grow, Crop\n",
      "if __name__ == '__main__':\n",
      "    crop = Crop(name='first_run', parent_dir='/Users/johnnie/Sync/dev/python/xyzpy/docs/examples')\n",
      "    print('Growing:', repr(crop))\n",
      "    grow_kwargs = dict(crop=crop, debugging=False, num_workers=None)\n",
      "    batch_ids = (11, 12, 13, 14, 15, 16, 17, 18, 19, 20)]\n",
      "    grow(batch_ids[$SGE_TASK_ID - 1], **grow_kwargs)\n",
      "EOM\n",
      "python -c \"$SCRIPT\"\n",
      "echo 'XYZPY script finished'\n",
      "\n"
     ]
    }
   ],
   "source": [
    "print(c.gen_cluster_script(scheduler='sge', minutes=20, gigabytes=1))"
   ]
  },
  {
   "cell_type": "markdown",
   "metadata": {},
   "source": [
    "The default ``scheduler`` is ``'sge'`` (Sun Grid Engine), \n",
    "however you can also specify ``'pbs'`` (Portable Batch System) \n",
    "or ``'slurm'``:"
   ]
  },
  {
   "cell_type": "code",
   "execution_count": 11,
   "metadata": {},
   "outputs": [
    {
     "name": "stdout",
     "output_type": "stream",
     "text": [
      "#!/bin/bash -l\n",
      "#PBS -N first_run\n",
      "#PBS -lselect=None:ncpus=None:mem=1gb\n",
      "#PBS -lwalltime=00:20:00\n",
      "\n",
      "#PBS -J 1-10\n",
      "echo 'XYZPY script starting...'\n",
      "cd /Users/johnnie/Sync/dev/python/xyzpy/docs/examples\n",
      "export OMP_NUM_THREADS=None\n",
      "export MKL_NUM_THREADS=None\n",
      "export OPENBLAS_NUM_THREADS=None\n",
      "export NUMBA_NUM_THREADS=None\n",
      "\n",
      "conda activate py311\n",
      "read -r -d '' SCRIPT << EOM\n",
      "#\n",
      "from xyzpy.gen.cropping import grow, Crop\n",
      "if __name__ == '__main__':\n",
      "    crop = Crop(name='first_run', parent_dir='/Users/johnnie/Sync/dev/python/xyzpy/docs/examples')\n",
      "    print('Growing:', repr(crop))\n",
      "    grow_kwargs = dict(crop=crop, debugging=False, num_workers=None)\n",
      "    batch_ids = (11, 12, 13, 14, 15, 16, 17, 18, 19, 20)\n",
      "    grow(batch_ids[$PBS_ARRAY_INDEX - 1], **grow_kwargs)\n",
      "EOM\n",
      "python -c \"$SCRIPT\"\n",
      "echo 'XYZPY script finished'\n",
      "\n"
     ]
    }
   ],
   "source": [
    "print(c.gen_cluster_script(scheduler='pbs', minutes=20, gigabytes=1))"
   ]
  },
  {
   "cell_type": "code",
   "execution_count": 12,
   "metadata": {},
   "outputs": [
    {
     "name": "stdout",
     "output_type": "stream",
     "text": [
      "#!/bin/bash -l\n",
      "#SBATCH --job-name=first_run\n",
      "#SBATCH --time=00:20:00\n",
      "#SBATCH --mem=1G\n",
      "#SBATCH --array=1-10\n",
      "echo 'XYZPY script starting...'\n",
      "cd /Users/johnnie/Sync/dev/python/xyzpy/docs/examples\n",
      "export OMP_NUM_THREADS=None\n",
      "export MKL_NUM_THREADS=None\n",
      "export OPENBLAS_NUM_THREADS=None\n",
      "export NUMBA_NUM_THREADS=None\n",
      "\n",
      "conda activate py311\n",
      "read -r -d '' SCRIPT << EOM\n",
      "#\n",
      "from xyzpy.gen.cropping import grow, Crop\n",
      "if __name__ == '__main__':\n",
      "    crop = Crop(name='first_run', parent_dir='/Users/johnnie/Sync/dev/python/xyzpy/docs/examples')\n",
      "    print('Growing:', repr(crop))\n",
      "    grow_kwargs = dict(crop=crop, debugging=False, num_workers=None)\n",
      "    batch_ids = (11, 12, 13, 14, 15, 16, 17, 18, 19, 20)\n",
      "    grow(batch_ids[$SLURM_ARRAY_TASK_ID - 1], **grow_kwargs)\n",
      "EOM\n",
      "python -c \"$SCRIPT\"\n",
      "echo 'XYZPY script finished'\n",
      "\n"
     ]
    }
   ],
   "source": [
    "print(c.gen_cluster_script(scheduler='slurm', minutes=20, gigabytes=1))"
   ]
  },
  {
   "cell_type": "markdown",
   "metadata": {
    "raw_mimetype": "text/restructuredtext"
   },
   "source": [
    "If you are just using the ``Crop`` as a persistence mechanism,\n",
    "then {meth}`xyzpy.Crop.grow` or {meth}`xyzpy.Crop.grow_missing`\n",
    "will process the batches in the current process:\n"
   ]
  },
  {
   "cell_type": "code",
   "execution_count": 13,
   "metadata": {},
   "outputs": [
    {
     "name": "stderr",
     "output_type": "stream",
     "text": [
      "100%|##########| 10/10 [00:00<00:00, 17.84it/s]\n"
     ]
    }
   ],
   "source": [
    "c.grow_missing(parallel=True)  #  this accepts combo_runner kwargs\n"
   ]
  },
  {
   "cell_type": "code",
   "execution_count": 14,
   "metadata": {},
   "outputs": [
    {
     "name": "stdout",
     "output_type": "stream",
     "text": [
      "\n",
      "/Users/johnnie/Sync/dev/python/xyzpy/docs/examples/.xyz-first_run\n",
      "--------------------------------------------------------=========\n",
      "20 / 20 batches of size 5 completed\n",
      "[####################] : 100.0%\n",
      "\n"
     ]
    }
   ],
   "source": [
    "print(c)"
   ]
  },
  {
   "cell_type": "markdown",
   "metadata": {
    "raw_mimetype": "text/restructuredtext",
    "tags": []
   },
   "source": [
    ":::{hint}\n",
    "If different function calls might take different amounts of time based on their arguments,\n",
    "you can supply ``shuffle=True`` to {meth}`xyzpy.Crop.sow_combos`. Each batch will then\n",
    "be a random selection of cases, which should even out the effort each takes as long as\n",
    "``batchsize`` is not too small.\n",
    ":::\n"
   ]
  },
  {
   "cell_type": "markdown",
   "metadata": {},
   "source": [
    "## Reap the results\n",
    "\n",
    "The final step is to **'reap'** the results from disk. Because the crop was instantiated from a ``Harvester``, that harvester will be automatically used to collect the resulting dataset and sync it with the on-disk dataset:"
   ]
  },
  {
   "cell_type": "code",
   "execution_count": 15,
   "metadata": {},
   "outputs": [
    {
     "name": "stderr",
     "output_type": "stream",
     "text": [
      "100%|##########| 100/100 [00:00<00:00, 36795.37it/s]\n"
     ]
    },
    {
     "data": {
      "text/html": [
       "<div><svg style=\"position: absolute; width: 0; height: 0; overflow: hidden\">\n",
       "<defs>\n",
       "<symbol id=\"icon-database\" viewBox=\"0 0 32 32\">\n",
       "<path d=\"M16 0c-8.837 0-16 2.239-16 5v4c0 2.761 7.163 5 16 5s16-2.239 16-5v-4c0-2.761-7.163-5-16-5z\"></path>\n",
       "<path d=\"M16 17c-8.837 0-16-2.239-16-5v6c0 2.761 7.163 5 16 5s16-2.239 16-5v-6c0 2.761-7.163 5-16 5z\"></path>\n",
       "<path d=\"M16 26c-8.837 0-16-2.239-16-5v6c0 2.761 7.163 5 16 5s16-2.239 16-5v-6c0 2.761-7.163 5-16 5z\"></path>\n",
       "</symbol>\n",
       "<symbol id=\"icon-file-text2\" viewBox=\"0 0 32 32\">\n",
       "<path d=\"M28.681 7.159c-0.694-0.947-1.662-2.053-2.724-3.116s-2.169-2.030-3.116-2.724c-1.612-1.182-2.393-1.319-2.841-1.319h-15.5c-1.378 0-2.5 1.121-2.5 2.5v27c0 1.378 1.122 2.5 2.5 2.5h23c1.378 0 2.5-1.122 2.5-2.5v-19.5c0-0.448-0.137-1.23-1.319-2.841zM24.543 5.457c0.959 0.959 1.712 1.825 2.268 2.543h-4.811v-4.811c0.718 0.556 1.584 1.309 2.543 2.268zM28 29.5c0 0.271-0.229 0.5-0.5 0.5h-23c-0.271 0-0.5-0.229-0.5-0.5v-27c0-0.271 0.229-0.5 0.5-0.5 0 0 15.499-0 15.5 0v7c0 0.552 0.448 1 1 1h7v19.5z\"></path>\n",
       "<path d=\"M23 26h-14c-0.552 0-1-0.448-1-1s0.448-1 1-1h14c0.552 0 1 0.448 1 1s-0.448 1-1 1z\"></path>\n",
       "<path d=\"M23 22h-14c-0.552 0-1-0.448-1-1s0.448-1 1-1h14c0.552 0 1 0.448 1 1s-0.448 1-1 1z\"></path>\n",
       "<path d=\"M23 18h-14c-0.552 0-1-0.448-1-1s0.448-1 1-1h14c0.552 0 1 0.448 1 1s-0.448 1-1 1z\"></path>\n",
       "</symbol>\n",
       "</defs>\n",
       "</svg>\n",
       "<style>/* CSS stylesheet for displaying xarray objects in jupyterlab.\n",
       " *\n",
       " */\n",
       "\n",
       ":root {\n",
       "  --xr-font-color0: var(--jp-content-font-color0, rgba(0, 0, 0, 1));\n",
       "  --xr-font-color2: var(--jp-content-font-color2, rgba(0, 0, 0, 0.54));\n",
       "  --xr-font-color3: var(--jp-content-font-color3, rgba(0, 0, 0, 0.38));\n",
       "  --xr-border-color: var(--jp-border-color2, #e0e0e0);\n",
       "  --xr-disabled-color: var(--jp-layout-color3, #bdbdbd);\n",
       "  --xr-background-color: var(--jp-layout-color0, white);\n",
       "  --xr-background-color-row-even: var(--jp-layout-color1, white);\n",
       "  --xr-background-color-row-odd: var(--jp-layout-color2, #eeeeee);\n",
       "}\n",
       "\n",
       "html[theme=dark],\n",
       "body[data-theme=dark],\n",
       "body.vscode-dark {\n",
       "  --xr-font-color0: rgba(255, 255, 255, 1);\n",
       "  --xr-font-color2: rgba(255, 255, 255, 0.54);\n",
       "  --xr-font-color3: rgba(255, 255, 255, 0.38);\n",
       "  --xr-border-color: #1F1F1F;\n",
       "  --xr-disabled-color: #515151;\n",
       "  --xr-background-color: #111111;\n",
       "  --xr-background-color-row-even: #111111;\n",
       "  --xr-background-color-row-odd: #313131;\n",
       "}\n",
       "\n",
       ".xr-wrap {\n",
       "  display: block !important;\n",
       "  min-width: 300px;\n",
       "  max-width: 700px;\n",
       "}\n",
       "\n",
       ".xr-text-repr-fallback {\n",
       "  /* fallback to plain text repr when CSS is not injected (untrusted notebook) */\n",
       "  display: none;\n",
       "}\n",
       "\n",
       ".xr-header {\n",
       "  padding-top: 6px;\n",
       "  padding-bottom: 6px;\n",
       "  margin-bottom: 4px;\n",
       "  border-bottom: solid 1px var(--xr-border-color);\n",
       "}\n",
       "\n",
       ".xr-header > div,\n",
       ".xr-header > ul {\n",
       "  display: inline;\n",
       "  margin-top: 0;\n",
       "  margin-bottom: 0;\n",
       "}\n",
       "\n",
       ".xr-obj-type,\n",
       ".xr-array-name {\n",
       "  margin-left: 2px;\n",
       "  margin-right: 10px;\n",
       "}\n",
       "\n",
       ".xr-obj-type {\n",
       "  color: var(--xr-font-color2);\n",
       "}\n",
       "\n",
       ".xr-sections {\n",
       "  padding-left: 0 !important;\n",
       "  display: grid;\n",
       "  grid-template-columns: 150px auto auto 1fr 20px 20px;\n",
       "}\n",
       "\n",
       ".xr-section-item {\n",
       "  display: contents;\n",
       "}\n",
       "\n",
       ".xr-section-item input {\n",
       "  display: none;\n",
       "}\n",
       "\n",
       ".xr-section-item input + label {\n",
       "  color: var(--xr-disabled-color);\n",
       "}\n",
       "\n",
       ".xr-section-item input:enabled + label {\n",
       "  cursor: pointer;\n",
       "  color: var(--xr-font-color2);\n",
       "}\n",
       "\n",
       ".xr-section-item input:enabled + label:hover {\n",
       "  color: var(--xr-font-color0);\n",
       "}\n",
       "\n",
       ".xr-section-summary {\n",
       "  grid-column: 1;\n",
       "  color: var(--xr-font-color2);\n",
       "  font-weight: 500;\n",
       "}\n",
       "\n",
       ".xr-section-summary > span {\n",
       "  display: inline-block;\n",
       "  padding-left: 0.5em;\n",
       "}\n",
       "\n",
       ".xr-section-summary-in:disabled + label {\n",
       "  color: var(--xr-font-color2);\n",
       "}\n",
       "\n",
       ".xr-section-summary-in + label:before {\n",
       "  display: inline-block;\n",
       "  content: '►';\n",
       "  font-size: 11px;\n",
       "  width: 15px;\n",
       "  text-align: center;\n",
       "}\n",
       "\n",
       ".xr-section-summary-in:disabled + label:before {\n",
       "  color: var(--xr-disabled-color);\n",
       "}\n",
       "\n",
       ".xr-section-summary-in:checked + label:before {\n",
       "  content: '▼';\n",
       "}\n",
       "\n",
       ".xr-section-summary-in:checked + label > span {\n",
       "  display: none;\n",
       "}\n",
       "\n",
       ".xr-section-summary,\n",
       ".xr-section-inline-details {\n",
       "  padding-top: 4px;\n",
       "  padding-bottom: 4px;\n",
       "}\n",
       "\n",
       ".xr-section-inline-details {\n",
       "  grid-column: 2 / -1;\n",
       "}\n",
       "\n",
       ".xr-section-details {\n",
       "  display: none;\n",
       "  grid-column: 1 / -1;\n",
       "  margin-bottom: 5px;\n",
       "}\n",
       "\n",
       ".xr-section-summary-in:checked ~ .xr-section-details {\n",
       "  display: contents;\n",
       "}\n",
       "\n",
       ".xr-array-wrap {\n",
       "  grid-column: 1 / -1;\n",
       "  display: grid;\n",
       "  grid-template-columns: 20px auto;\n",
       "}\n",
       "\n",
       ".xr-array-wrap > label {\n",
       "  grid-column: 1;\n",
       "  vertical-align: top;\n",
       "}\n",
       "\n",
       ".xr-preview {\n",
       "  color: var(--xr-font-color3);\n",
       "}\n",
       "\n",
       ".xr-array-preview,\n",
       ".xr-array-data {\n",
       "  padding: 0 5px !important;\n",
       "  grid-column: 2;\n",
       "}\n",
       "\n",
       ".xr-array-data,\n",
       ".xr-array-in:checked ~ .xr-array-preview {\n",
       "  display: none;\n",
       "}\n",
       "\n",
       ".xr-array-in:checked ~ .xr-array-data,\n",
       ".xr-array-preview {\n",
       "  display: inline-block;\n",
       "}\n",
       "\n",
       ".xr-dim-list {\n",
       "  display: inline-block !important;\n",
       "  list-style: none;\n",
       "  padding: 0 !important;\n",
       "  margin: 0;\n",
       "}\n",
       "\n",
       ".xr-dim-list li {\n",
       "  display: inline-block;\n",
       "  padding: 0;\n",
       "  margin: 0;\n",
       "}\n",
       "\n",
       ".xr-dim-list:before {\n",
       "  content: '(';\n",
       "}\n",
       "\n",
       ".xr-dim-list:after {\n",
       "  content: ')';\n",
       "}\n",
       "\n",
       ".xr-dim-list li:not(:last-child):after {\n",
       "  content: ',';\n",
       "  padding-right: 5px;\n",
       "}\n",
       "\n",
       ".xr-has-index {\n",
       "  font-weight: bold;\n",
       "}\n",
       "\n",
       ".xr-var-list,\n",
       ".xr-var-item {\n",
       "  display: contents;\n",
       "}\n",
       "\n",
       ".xr-var-item > div,\n",
       ".xr-var-item label,\n",
       ".xr-var-item > .xr-var-name span {\n",
       "  background-color: var(--xr-background-color-row-even);\n",
       "  margin-bottom: 0;\n",
       "}\n",
       "\n",
       ".xr-var-item > .xr-var-name:hover span {\n",
       "  padding-right: 5px;\n",
       "}\n",
       "\n",
       ".xr-var-list > li:nth-child(odd) > div,\n",
       ".xr-var-list > li:nth-child(odd) > label,\n",
       ".xr-var-list > li:nth-child(odd) > .xr-var-name span {\n",
       "  background-color: var(--xr-background-color-row-odd);\n",
       "}\n",
       "\n",
       ".xr-var-name {\n",
       "  grid-column: 1;\n",
       "}\n",
       "\n",
       ".xr-var-dims {\n",
       "  grid-column: 2;\n",
       "}\n",
       "\n",
       ".xr-var-dtype {\n",
       "  grid-column: 3;\n",
       "  text-align: right;\n",
       "  color: var(--xr-font-color2);\n",
       "}\n",
       "\n",
       ".xr-var-preview {\n",
       "  grid-column: 4;\n",
       "}\n",
       "\n",
       ".xr-index-preview {\n",
       "  grid-column: 2 / 5;\n",
       "  color: var(--xr-font-color2);\n",
       "}\n",
       "\n",
       ".xr-var-name,\n",
       ".xr-var-dims,\n",
       ".xr-var-dtype,\n",
       ".xr-preview,\n",
       ".xr-attrs dt {\n",
       "  white-space: nowrap;\n",
       "  overflow: hidden;\n",
       "  text-overflow: ellipsis;\n",
       "  padding-right: 10px;\n",
       "}\n",
       "\n",
       ".xr-var-name:hover,\n",
       ".xr-var-dims:hover,\n",
       ".xr-var-dtype:hover,\n",
       ".xr-attrs dt:hover {\n",
       "  overflow: visible;\n",
       "  width: auto;\n",
       "  z-index: 1;\n",
       "}\n",
       "\n",
       ".xr-var-attrs,\n",
       ".xr-var-data,\n",
       ".xr-index-data {\n",
       "  display: none;\n",
       "  background-color: var(--xr-background-color) !important;\n",
       "  padding-bottom: 5px !important;\n",
       "}\n",
       "\n",
       ".xr-var-attrs-in:checked ~ .xr-var-attrs,\n",
       ".xr-var-data-in:checked ~ .xr-var-data,\n",
       ".xr-index-data-in:checked ~ .xr-index-data {\n",
       "  display: block;\n",
       "}\n",
       "\n",
       ".xr-var-data > table {\n",
       "  float: right;\n",
       "}\n",
       "\n",
       ".xr-var-name span,\n",
       ".xr-var-data,\n",
       ".xr-index-name div,\n",
       ".xr-index-data,\n",
       ".xr-attrs {\n",
       "  padding-left: 25px !important;\n",
       "}\n",
       "\n",
       ".xr-attrs,\n",
       ".xr-var-attrs,\n",
       ".xr-var-data,\n",
       ".xr-index-data {\n",
       "  grid-column: 1 / -1;\n",
       "}\n",
       "\n",
       "dl.xr-attrs {\n",
       "  padding: 0;\n",
       "  margin: 0;\n",
       "  display: grid;\n",
       "  grid-template-columns: 125px auto;\n",
       "}\n",
       "\n",
       ".xr-attrs dt,\n",
       ".xr-attrs dd {\n",
       "  padding: 0;\n",
       "  margin: 0;\n",
       "  float: left;\n",
       "  padding-right: 10px;\n",
       "  width: auto;\n",
       "}\n",
       "\n",
       ".xr-attrs dt {\n",
       "  font-weight: normal;\n",
       "  grid-column: 1;\n",
       "}\n",
       "\n",
       ".xr-attrs dt:hover span {\n",
       "  display: inline-block;\n",
       "  background: var(--xr-background-color);\n",
       "  padding-right: 10px;\n",
       "}\n",
       "\n",
       ".xr-attrs dd {\n",
       "  grid-column: 2;\n",
       "  white-space: pre-wrap;\n",
       "  word-break: break-all;\n",
       "}\n",
       "\n",
       ".xr-icon-database,\n",
       ".xr-icon-file-text2,\n",
       ".xr-no-icon {\n",
       "  display: inline-block;\n",
       "  vertical-align: middle;\n",
       "  width: 1em;\n",
       "  height: 1.5em !important;\n",
       "  stroke-width: 0;\n",
       "  stroke: currentColor;\n",
       "  fill: currentColor;\n",
       "}\n",
       "</style><pre class='xr-text-repr-fallback'>&lt;xarray.Dataset&gt;\n",
       "Dimensions:  (a: 10, b: 10)\n",
       "Coordinates:\n",
       "  * a        (a) int64 0 1 2 3 4 5 6 7 8 9\n",
       "  * b        (b) int64 0 1 2 3 4 5 6 7 8 9\n",
       "Data variables:\n",
       "    sum      (a, b) int64 0 1 2 3 4 5 6 7 8 9 1 ... 9 10 11 12 13 14 15 16 17 18\n",
       "    diff     (a, b) int64 0 -1 -2 -3 -4 -5 -6 -7 -8 -9 1 ... 9 8 7 6 5 4 3 2 1 0</pre><div class='xr-wrap' style='display:none'><div class='xr-header'><div class='xr-obj-type'>xarray.Dataset</div></div><ul class='xr-sections'><li class='xr-section-item'><input id='section-fbf6b0c5-f5d8-44fd-9a34-0f6a7ac79980' class='xr-section-summary-in' type='checkbox' disabled ><label for='section-fbf6b0c5-f5d8-44fd-9a34-0f6a7ac79980' class='xr-section-summary'  title='Expand/collapse section'>Dimensions:</label><div class='xr-section-inline-details'><ul class='xr-dim-list'><li><span class='xr-has-index'>a</span>: 10</li><li><span class='xr-has-index'>b</span>: 10</li></ul></div><div class='xr-section-details'></div></li><li class='xr-section-item'><input id='section-5b014d05-438a-41fb-871f-483bf132bb8b' class='xr-section-summary-in' type='checkbox'  checked><label for='section-5b014d05-438a-41fb-871f-483bf132bb8b' class='xr-section-summary' >Coordinates: <span>(2)</span></label><div class='xr-section-inline-details'></div><div class='xr-section-details'><ul class='xr-var-list'><li class='xr-var-item'><div class='xr-var-name'><span class='xr-has-index'>a</span></div><div class='xr-var-dims'>(a)</div><div class='xr-var-dtype'>int64</div><div class='xr-var-preview xr-preview'>0 1 2 3 4 5 6 7 8 9</div><input id='attrs-057ec1f7-cbfb-489b-9ae4-bb32f66190bf' class='xr-var-attrs-in' type='checkbox' disabled><label for='attrs-057ec1f7-cbfb-489b-9ae4-bb32f66190bf' title='Show/Hide attributes'><svg class='icon xr-icon-file-text2'><use xlink:href='#icon-file-text2'></use></svg></label><input id='data-6362257f-1c69-40a4-bd74-66db88e17592' class='xr-var-data-in' type='checkbox'><label for='data-6362257f-1c69-40a4-bd74-66db88e17592' title='Show/Hide data repr'><svg class='icon xr-icon-database'><use xlink:href='#icon-database'></use></svg></label><div class='xr-var-attrs'><dl class='xr-attrs'></dl></div><div class='xr-var-data'><pre>array([0, 1, 2, 3, 4, 5, 6, 7, 8, 9])</pre></div></li><li class='xr-var-item'><div class='xr-var-name'><span class='xr-has-index'>b</span></div><div class='xr-var-dims'>(b)</div><div class='xr-var-dtype'>int64</div><div class='xr-var-preview xr-preview'>0 1 2 3 4 5 6 7 8 9</div><input id='attrs-b1ccf2df-c6c0-4dfe-9785-310d1b8e2b7e' class='xr-var-attrs-in' type='checkbox' disabled><label for='attrs-b1ccf2df-c6c0-4dfe-9785-310d1b8e2b7e' title='Show/Hide attributes'><svg class='icon xr-icon-file-text2'><use xlink:href='#icon-file-text2'></use></svg></label><input id='data-9d3cb9ee-2751-46bc-866a-979f14fc2b15' class='xr-var-data-in' type='checkbox'><label for='data-9d3cb9ee-2751-46bc-866a-979f14fc2b15' title='Show/Hide data repr'><svg class='icon xr-icon-database'><use xlink:href='#icon-database'></use></svg></label><div class='xr-var-attrs'><dl class='xr-attrs'></dl></div><div class='xr-var-data'><pre>array([0, 1, 2, 3, 4, 5, 6, 7, 8, 9])</pre></div></li></ul></div></li><li class='xr-section-item'><input id='section-4e328583-8316-4630-b347-f5f70467e958' class='xr-section-summary-in' type='checkbox'  checked><label for='section-4e328583-8316-4630-b347-f5f70467e958' class='xr-section-summary' >Data variables: <span>(2)</span></label><div class='xr-section-inline-details'></div><div class='xr-section-details'><ul class='xr-var-list'><li class='xr-var-item'><div class='xr-var-name'><span>sum</span></div><div class='xr-var-dims'>(a, b)</div><div class='xr-var-dtype'>int64</div><div class='xr-var-preview xr-preview'>0 1 2 3 4 5 6 ... 13 14 15 16 17 18</div><input id='attrs-bdda6cfd-d873-4eb2-a8ce-2d9a22a77f7e' class='xr-var-attrs-in' type='checkbox' disabled><label for='attrs-bdda6cfd-d873-4eb2-a8ce-2d9a22a77f7e' title='Show/Hide attributes'><svg class='icon xr-icon-file-text2'><use xlink:href='#icon-file-text2'></use></svg></label><input id='data-8b6d5744-8ab4-456e-8594-e82a1f13a7d7' class='xr-var-data-in' type='checkbox'><label for='data-8b6d5744-8ab4-456e-8594-e82a1f13a7d7' title='Show/Hide data repr'><svg class='icon xr-icon-database'><use xlink:href='#icon-database'></use></svg></label><div class='xr-var-attrs'><dl class='xr-attrs'></dl></div><div class='xr-var-data'><pre>array([[ 0,  1,  2,  3,  4,  5,  6,  7,  8,  9],\n",
       "       [ 1,  2,  3,  4,  5,  6,  7,  8,  9, 10],\n",
       "       [ 2,  3,  4,  5,  6,  7,  8,  9, 10, 11],\n",
       "       [ 3,  4,  5,  6,  7,  8,  9, 10, 11, 12],\n",
       "       [ 4,  5,  6,  7,  8,  9, 10, 11, 12, 13],\n",
       "       [ 5,  6,  7,  8,  9, 10, 11, 12, 13, 14],\n",
       "       [ 6,  7,  8,  9, 10, 11, 12, 13, 14, 15],\n",
       "       [ 7,  8,  9, 10, 11, 12, 13, 14, 15, 16],\n",
       "       [ 8,  9, 10, 11, 12, 13, 14, 15, 16, 17],\n",
       "       [ 9, 10, 11, 12, 13, 14, 15, 16, 17, 18]])</pre></div></li><li class='xr-var-item'><div class='xr-var-name'><span>diff</span></div><div class='xr-var-dims'>(a, b)</div><div class='xr-var-dtype'>int64</div><div class='xr-var-preview xr-preview'>0 -1 -2 -3 -4 -5 -6 ... 5 4 3 2 1 0</div><input id='attrs-78beb774-d96f-4117-8d48-a268f7e9b7d5' class='xr-var-attrs-in' type='checkbox' disabled><label for='attrs-78beb774-d96f-4117-8d48-a268f7e9b7d5' title='Show/Hide attributes'><svg class='icon xr-icon-file-text2'><use xlink:href='#icon-file-text2'></use></svg></label><input id='data-c5df2957-2412-44d0-9fed-9b8e2334d569' class='xr-var-data-in' type='checkbox'><label for='data-c5df2957-2412-44d0-9fed-9b8e2334d569' title='Show/Hide data repr'><svg class='icon xr-icon-database'><use xlink:href='#icon-database'></use></svg></label><div class='xr-var-attrs'><dl class='xr-attrs'></dl></div><div class='xr-var-data'><pre>array([[ 0, -1, -2, -3, -4, -5, -6, -7, -8, -9],\n",
       "       [ 1,  0, -1, -2, -3, -4, -5, -6, -7, -8],\n",
       "       [ 2,  1,  0, -1, -2, -3, -4, -5, -6, -7],\n",
       "       [ 3,  2,  1,  0, -1, -2, -3, -4, -5, -6],\n",
       "       [ 4,  3,  2,  1,  0, -1, -2, -3, -4, -5],\n",
       "       [ 5,  4,  3,  2,  1,  0, -1, -2, -3, -4],\n",
       "       [ 6,  5,  4,  3,  2,  1,  0, -1, -2, -3],\n",
       "       [ 7,  6,  5,  4,  3,  2,  1,  0, -1, -2],\n",
       "       [ 8,  7,  6,  5,  4,  3,  2,  1,  0, -1],\n",
       "       [ 9,  8,  7,  6,  5,  4,  3,  2,  1,  0]])</pre></div></li></ul></div></li><li class='xr-section-item'><input id='section-aae79b07-201c-43f0-a6c9-d3eca0bb4774' class='xr-section-summary-in' type='checkbox'  ><label for='section-aae79b07-201c-43f0-a6c9-d3eca0bb4774' class='xr-section-summary' >Indexes: <span>(2)</span></label><div class='xr-section-inline-details'></div><div class='xr-section-details'><ul class='xr-var-list'><li class='xr-var-item'><div class='xr-index-name'><div>a</div></div><div class='xr-index-preview'>PandasIndex</div><div></div><input id='index-b65042ce-dfc1-479e-ad12-31028f0c409c' class='xr-index-data-in' type='checkbox'/><label for='index-b65042ce-dfc1-479e-ad12-31028f0c409c' title='Show/Hide index repr'><svg class='icon xr-icon-database'><use xlink:href='#icon-database'></use></svg></label><div class='xr-index-data'><pre>PandasIndex(Index([0, 1, 2, 3, 4, 5, 6, 7, 8, 9], dtype=&#x27;int64&#x27;, name=&#x27;a&#x27;))</pre></div></li><li class='xr-var-item'><div class='xr-index-name'><div>b</div></div><div class='xr-index-preview'>PandasIndex</div><div></div><input id='index-31a5bc08-d785-4a86-b494-54769ee426b5' class='xr-index-data-in' type='checkbox'/><label for='index-31a5bc08-d785-4a86-b494-54769ee426b5' title='Show/Hide index repr'><svg class='icon xr-icon-database'><use xlink:href='#icon-database'></use></svg></label><div class='xr-index-data'><pre>PandasIndex(Index([0, 1, 2, 3, 4, 5, 6, 7, 8, 9], dtype=&#x27;int64&#x27;, name=&#x27;b&#x27;))</pre></div></li></ul></div></li><li class='xr-section-item'><input id='section-091b378b-cf87-4e39-bed5-b1d14d205db4' class='xr-section-summary-in' type='checkbox' disabled ><label for='section-091b378b-cf87-4e39-bed5-b1d14d205db4' class='xr-section-summary'  title='Expand/collapse section'>Attributes: <span>(0)</span></label><div class='xr-section-inline-details'></div><div class='xr-section-details'><dl class='xr-attrs'></dl></div></li></ul></div></div>"
      ],
      "text/plain": [
       "<xarray.Dataset>\n",
       "Dimensions:  (a: 10, b: 10)\n",
       "Coordinates:\n",
       "  * a        (a) int64 0 1 2 3 4 5 6 7 8 9\n",
       "  * b        (b) int64 0 1 2 3 4 5 6 7 8 9\n",
       "Data variables:\n",
       "    sum      (a, b) int64 0 1 2 3 4 5 6 7 8 9 1 ... 9 10 11 12 13 14 15 16 17 18\n",
       "    diff     (a, b) int64 0 -1 -2 -3 -4 -5 -6 -7 -8 -9 1 ... 9 8 7 6 5 4 3 2 1 0"
      ]
     },
     "execution_count": 15,
     "metadata": {},
     "output_type": "execute_result"
    }
   ],
   "source": [
    "c.reap()"
   ]
  },
  {
   "cell_type": "markdown",
   "metadata": {},
   "source": [
    "The dataset `foo_data.h5` should be on disk, and the crop folder cleaned up:"
   ]
  },
  {
   "cell_type": "code",
   "execution_count": 16,
   "metadata": {},
   "outputs": [
    {
     "name": "stdout",
     "output_type": "stream",
     "text": [
      "\u001b[30m\u001b[43m.\u001b[m\u001b[m/                              \u001b[31mdask distributed example.ipynb\u001b[m\u001b[m*\n",
      "\u001b[30m\u001b[43m..\u001b[m\u001b[m/                             \u001b[30m\u001b[43mdask-worker-space\u001b[m\u001b[m/\n",
      "\u001b[31mbasic output example.ipynb\u001b[m\u001b[m*     \u001b[31mfarming example.ipynb\u001b[m\u001b[m*\n",
      "\u001b[31mcomplex output example.ipynb\u001b[m\u001b[m*   foo_data.h5\n",
      "\u001b[31mcrop example.ipynb\u001b[m\u001b[m*             \u001b[31mvisualize matrix.ipynb\u001b[m\u001b[m*\n"
     ]
    }
   ],
   "source": [
    "!ls -a"
   ]
  },
  {
   "cell_type": "markdown",
   "metadata": {},
   "source": [
    "And we can inspect the results:"
   ]
  },
  {
   "cell_type": "code",
   "execution_count": 18,
   "metadata": {},
   "outputs": [
    {
     "name": "stdout",
     "output_type": "stream",
     "text": [
      "False\n",
      "9\n"
     ]
    },
    {
     "data": {
      "image/png": "[encoded data removed]",
      "text/plain": [
       "<Figure size 300x300 with 1 Axes>"
      ]
     },
     "metadata": {
      "needs_background": "light"
     },
     "output_type": "display_data"
    }
   ],
   "source": [
    "h.full_ds.xyz.plot(x='a', y='b', z='diff');"
   ]
  },
  {
   "cell_type": "markdown",
   "metadata": {},
   "source": [
    "Many crops can be created from the harvester at once, and when they are reaped, the results should be seamlessly combined into the on-disk dataset."
   ]
  },
  {
   "cell_type": "code",
   "execution_count": 19,
   "metadata": {},
   "outputs": [],
   "source": [
    "# for now clean up\n",
    "h.delete_ds()"
   ]
  }
 ],
 "metadata": {
  "kernelspec": {
   "display_name": "Python 3",
   "language": "python",
   "name": "python3"
  },
  "language_info": {
   "codemirror_mode": {
    "name": "ipython",
    "version": 3
   },
   "file_extension": ".py",
   "mimetype": "text/x-python",
   "name": "python",
   "nbconvert_exporter": "python",
   "pygments_lexer": "ipython3",
   "version": "3.11.5"
  }
 },
 "nbformat": 4,
 "nbformat_minor": 4
}
